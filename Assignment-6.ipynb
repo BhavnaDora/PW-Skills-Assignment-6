{
 "cells": [
  {
   "cell_type": "markdown",
   "id": "6147c399-ff08-4725-9bad-e8dd98704d11",
   "metadata": {},
   "source": [
    "##### (1) Class is the classification of real world entities. It is a user-defined blueprint or prototype from which objects are created. Class creates a user-defined data structure, which holds its own data members and member functions. Classes are created with the reseved keyword class.\n",
    "\n",
    "##### Object is the variable/instance of the class which can access the property of that class i.e. all the functions, methods written inside that class. Class is lika a blueprint but object is the copy of the class with actual values. When an object of a class is created, the class is said to be instantiated. We can create any number of objects for a class. The atrributes of class are accessed outside the class using dot operator with object name.\n",
    "\n",
    "##### We use the class-object concept for clean, structured, reusable and modular codes."
   ]
  },
  {
   "cell_type": "code",
   "execution_count": 2,
   "id": "4f21fc63-03f7-4e87-877f-5ad95e00a877",
   "metadata": {},
   "outputs": [
    {
     "name": "stdout",
     "output_type": "stream",
     "text": [
      "Welcome to Data Science Masters course\n"
     ]
    }
   ],
   "source": [
    "class Greetings:\n",
    "    def welcome_msg(self):\n",
    "        print(\"Welcome to Data Science Masters course\")\n",
    "        \n",
    "\n",
    "bhavna= Greetings()     # bhavna is object of the class Greetings\n",
    "bhavna.welcome_msg()    # the object can access the functions inside class using dot operator"
   ]
  },
  {
   "cell_type": "markdown",
   "id": "a5816746-b349-4c23-be98-fd7228e93365",
   "metadata": {},
   "source": [
    "##### (2) The 4 pillars of oops are-\n",
    "##### Inheritance- It the capability of one class to inherit the properties from another class\n",
    "##### Encapsulation- It describes the idea of wrapping data and the methods in one unit. ex) class- it encapsulates all the data that is variables, member functions\n",
    "##### Polymorphism- having many forms. The same function name being used for different types\n",
    "##### Abstraction- It hides unnecessary code details from user"
   ]
  },
  {
   "cell_type": "markdown",
   "id": "22ba0a98-e2cd-4d0f-bfab-cd5174c934f5",
   "metadata": {},
   "source": [
    "##### (3) __init__() function is used to build constructors. Constructors are used to initialize the object’s state. Constructor takes data while creating an object and passes it to the class. Like methods, constructor also contains a collection of statements(i.e. instructions) that are executed at the time of object creation. It runs as soon as an object of a class is instantiated."
   ]
  },
  {
   "cell_type": "code",
   "execution_count": 3,
   "id": "444ec784-1d38-48c2-a35e-ba9dba0d2429",
   "metadata": {},
   "outputs": [
    {
     "data": {
      "text/plain": [
       "('Bhavna', 9963456, 'dorabhavna@gmail.com')"
      ]
     },
     "execution_count": 3,
     "metadata": {},
     "output_type": "execute_result"
    }
   ],
   "source": [
    "class Welcome:\n",
    "    def __init__(self,name,phone_no,email_id):\n",
    "        self.name= name\n",
    "        self.phone_no= phone_no\n",
    "        self.email_id= email_id\n",
    "    \n",
    "    def student_details(self):\n",
    "        return self.name, self.phone_no, self.email_id\n",
    "\n",
    "    \n",
    "student= Welcome(\"Bhavna\",9963456,\"dorabhavna@gmail.com\")\n",
    "student.student_details()"
   ]
  },
  {
   "cell_type": "markdown",
   "id": "a729d899-39bb-4eaf-9737-7350d7742537",
   "metadata": {},
   "source": [
    "##### (4) Self is a reference/pointer. The methods in the class must have an extra parameter in their definition and that is self. We do not give the value for this parameter when we call the method, python provides it. \n",
    "##### If we have a method that takes no argument, then while calling that method we get an error saying the method takes 0 positional arguments but 1 was given. This is cleared by taking self as argument in method. \n",
    "##### By using self with dot operator all the attributes and methods can be accessed inside the class.\n",
    "##### Self is always pointing to Current Object. Self is the first argument to be passed in Constructor and Instance Method."
   ]
  },
  {
   "cell_type": "markdown",
   "id": "c3dbcbe8-f65f-4908-92f7-752f07d1ec0f",
   "metadata": {},
   "source": [
    "##### (5) Inheritance allows us to define a class that inherits all the methods and properties from another class. Parent class is the class being inherited from, also called base class. Child class is the class that inherits from another class, also called derived class. Inheritance provides reusability, it allows us to add more features to a class without modifying it. It is transitive in nature.\n",
    "##### There are 5 types of inheritance in python-\n",
    "##### 1- Single Inheritance\n",
    "##### 2- Multiple Inheritance\n",
    "##### 3- Multilevel Inheritance\n",
    "##### 4- Hierarchical Inheritance\n",
    "##### 5- Hybrid Inheritance\n",
    "##### Examples-"
   ]
  },
  {
   "cell_type": "code",
   "execution_count": 5,
   "id": "4b3eba84-0b2c-4291-ae10-5339daa4afa1",
   "metadata": {},
   "outputs": [
    {
     "name": "stdout",
     "output_type": "stream",
     "text": [
      "('Niroj', 55)\n",
      "Child class inherits from Parent class and can access all attributes of Parent class\n"
     ]
    },
    {
     "data": {
      "text/plain": [
       "('Bhavna', 24)"
      ]
     },
     "execution_count": 5,
     "metadata": {},
     "output_type": "execute_result"
    }
   ],
   "source": [
    "# Single inheritance-\n",
    "\n",
    "class Parent:\n",
    "    def __init__(self,name,age):\n",
    "        self.name= name\n",
    "        self.age= age\n",
    "    \n",
    "    def details(self):\n",
    "        return self.name, self.age\n",
    "\n",
    "class Child(Parent):\n",
    "    def message(self):\n",
    "        print(\"Child class inherits from Parent class and can access all attributes of Parent class\")\n",
    "        \n",
    "person1= Parent(\"Niroj\",55)\n",
    "print(person1.details())\n",
    "person2= Child(\"Bhavna\",24)\n",
    "person2.message()\n",
    "person2.details()\n",
    "\n",
    "        "
   ]
  },
  {
   "cell_type": "code",
   "execution_count": 1,
   "id": "b3f03fa6-d990-42b4-b8a1-bd5f060bfcc4",
   "metadata": {},
   "outputs": [
    {
     "name": "stdout",
     "output_type": "stream",
     "text": [
      "this is my class1\n",
      "this is my class2\n"
     ]
    }
   ],
   "source": [
    "# Multiple inheritance-\n",
    "\n",
    "class class1:\n",
    "    def test_class1(self):\n",
    "        print(\"this is my class1\")\n",
    "\n",
    "class class2:\n",
    "    def test_class2(self):\n",
    "        print(\"this is my class2\")\n",
    "\n",
    "class class3(class1, class2):   #class3 inherits from both class1 and class2\n",
    "    pass\n",
    "\n",
    "obj_class3= class3()   # we create an object of class3\n",
    "obj_class3.test_class1()   # the object of class3 can access the method of class1\n",
    "obj_class3.test_class2()   # the object of class3 can access the method of class2\n",
    "    "
   ]
  },
  {
   "cell_type": "code",
   "execution_count": 4,
   "id": "6627fd3a-3b61-453e-a186-e0b9cda7116f",
   "metadata": {},
   "outputs": [
    {
     "name": "stdout",
     "output_type": "stream",
     "text": [
      "my name is Bhvana Dora\n",
      "my father name is Niroj Kumar Dora\n",
      "my grandfather name is A.N. Rao\n"
     ]
    }
   ],
   "source": [
    "# Multilevel inheritance-\n",
    "\n",
    "class grandparents:\n",
    "    def name1(self):\n",
    "        print(\"my grandfather name is A.N. Rao\")\n",
    "\n",
    "class parents(grandparents):    # parents class inherits from grandparents class\n",
    "    def name2(self):\n",
    "        print(\"my father name is Niroj Kumar Dora\")\n",
    "        \n",
    "class child(parents):           # child class inherits from parents class\n",
    "    def name3(self):\n",
    "        print(\"my name is Bhvana Dora\")\n",
    "\n",
    "\n",
    "obj_child= child()       # we create an object of child class\n",
    "obj_child.name3()\n",
    "obj_child.name2()        #the object of child class inherits from parents class so it can access the function of parents class\n",
    "\n",
    "# as the parents class inherits from grandparents class and the child class inherits from parents class, \n",
    "#so then child class also inherits from granparents class and can access its function\n",
    "obj_child.name1()"
   ]
  },
  {
   "cell_type": "code",
   "execution_count": 6,
   "id": "eb19a9a6-0252-4de0-a03d-94677c683533",
   "metadata": {},
   "outputs": [
    {
     "name": "stdout",
     "output_type": "stream",
     "text": [
      "this function is in child1 class\n",
      "this function is in parent class\n",
      "this function is in child2 class\n",
      "this function is in parent class\n"
     ]
    }
   ],
   "source": [
    "# Hierarchical inheritance-\n",
    "\n",
    "class parent:\n",
    "    def func(self):\n",
    "        print(\"this function is in parent class\")\n",
    "        \n",
    "class child1(parent):    # child1 class inherits parent class\n",
    "    def func1(self):\n",
    "        print(\"this function is in child1 class\")\n",
    "        \n",
    "class child2(parent):    # child2 class also inherits parent class\n",
    "    def func2(self):\n",
    "        print(\"this function is in child2 class\")\n",
    "    \n",
    "\n",
    "obj_child1= child1()   #creating object of class child1\n",
    "obj_child2= child2()   #creating object of class child2\n",
    "obj_child1.func1()\n",
    "obj_child1.func()      # object of child1 class can access the functions inside parent class\n",
    "obj_child2.func2()\n",
    "obj_child2.func()     # object of child2 class can also access the function inside parent class"
   ]
  },
  {
   "cell_type": "code",
   "execution_count": 7,
   "id": "67a0ffec-ee0c-4072-be32-735e951f4425",
   "metadata": {},
   "outputs": [
    {
     "name": "stdout",
     "output_type": "stream",
     "text": [
      "this function is in class student3\n",
      "this function is in class student1\n",
      "this function is in class student2\n",
      "this function is in class school\n"
     ]
    }
   ],
   "source": [
    "# Hybrid inheritance-\n",
    "\n",
    "class school:\n",
    "    def func(self):\n",
    "        print(\"this function is in class school\")\n",
    "        \n",
    "class student1(school):\n",
    "    def func1(self):\n",
    "        print(\"this function is in class student1\")\n",
    "        \n",
    "class student2(school):\n",
    "    def func2(self):\n",
    "        print(\"this function is in class student2\")\n",
    "        \n",
    "class student3(student1, student2):\n",
    "    def func3(self):\n",
    "        print(\"this function is in class student3\")\n",
    "        \n",
    "        \n",
    "obj_student3= student3()     #creating object of class student3\n",
    "obj_student3.func3()\n",
    "obj_student3.func1()         #as object of class student3 inherits the class student1 so it can access it's function\n",
    "obj_student3.func2()         #as object of class student3 inherits the class student2 so it can access it's function\n",
    "\n",
    "# as obj of class student3 inherits both classes student1 and student2 which in turn inherit the class school, \n",
    "#so obj_student3 can also access the function of class school\n",
    "\n",
    "obj_student3.func()"
   ]
  },
  {
   "cell_type": "code",
   "execution_count": null,
   "id": "74b4be29-1237-4b12-bed1-daa0e6cca612",
   "metadata": {},
   "outputs": [],
   "source": []
  }
 ],
 "metadata": {
  "kernelspec": {
   "display_name": "Python 3 (ipykernel)",
   "language": "python",
   "name": "python3"
  },
  "language_info": {
   "codemirror_mode": {
    "name": "ipython",
    "version": 3
   },
   "file_extension": ".py",
   "mimetype": "text/x-python",
   "name": "python",
   "nbconvert_exporter": "python",
   "pygments_lexer": "ipython3",
   "version": "3.10.8"
  }
 },
 "nbformat": 4,
 "nbformat_minor": 5
}
